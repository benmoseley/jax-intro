{
 "cells": [
  {
   "cell_type": "markdown",
   "id": "6aac18f8",
   "metadata": {},
   "source": [
    "# What is JAX?\n",
    "Ben Moseley\n",
    "9 December 2022\n",
    "\n",
    "This material has mostly been copied from the official JAX documentation:\n",
    "- https://jax.readthedocs.io/en/latest/notebooks/quickstart.html\n",
    "\n",
    "And these blog posts:\n",
    "- https://www.assemblyai.com/blog/why-you-should-or-shouldnt-be-using-jax-in-2022/\n",
    "- https://kidger.site/thoughts/jax-vs-julia/\n",
    "\n",
    "\n",
    "<img src=\"JAX-overview.svg\" width=40%>\n",
    "\n",
    "> JAX and Julia are unquestionably the current state-of-the-art frameworks for autodifferentiation, scientific computing, and ML computing\n",
    "\n",
    "Compared to PyTorch:\n",
    "- JAX is *much faster* than pytorch for scientific computing (less interpreter overhead/ better jit) - particularly for e.g. differential equation solvers\n",
    "- JAX is *more feature-complete* for scientific computing - e.g. more advanced autodifferentiation\n",
    "\n",
    "## Programming paradigm\n",
    "\n",
    "\n",
    "### Compilation\n",
    "\n",
    "Julia and JAX are both based on JIT compilation - compiled and optimised down to efficient machine code the first time it is run.\n",
    "\n",
    "The first run of the code (function) is slower, whilst subsequent runs are fast.\n",
    "\n",
    "Compared to Julia:\n",
    "- JAX can have slowish compilation speeds for the python interpreter to chug through, compared to Julia\n",
    "- JAX is a python package (DSL), whilst Julia is a programming language. This means we have to refer to the `jax` package rather than using native synatax such as `for` loops, for some use cases\n",
    "- JAX appears more reliable (in terms of documentation, gradient bugs/ code reliability, professionalism), and array indexing is much nicer; it mirrors numpy\n",
    "\n",
    "JAX relies on JIT XLA to make this compiled code fast (*whole program compiler* designed for linear algebra, and not just single operations): XLA (developed by Google) is the DNA and foundation of JAX, and includes many optimisations including *kernel fusion*.\n",
    "\n",
    "Note this can place limitations on the types of code (functions) that you can jit (see below).\n",
    "\n",
    "Since all JAX operations are implemented in terms of operations in XLA, JAX has a *unified language* for computation that allows it to run seamlessly across CPU, TPU, and GPU.\n",
    "\n",
    "Compared to PyTorch:\n",
    "- JAX uses static graph creation and compilation, whilst PyTorch is dynamic\n",
    "\n",
    "### Composible function transforms\n",
    "\n",
    "JAX (and Julia) uses *homoiconicity* - the property of being able to represent *code as data*, or more precisely, the program's internal representation can be inferred just by reading the program itself.\n",
    "\n",
    "> This allows you to *write code that modifies other code*. E.g. backpropagation: reriting your code to be evaluated in reverse order. Aka metaprogramming (other programs as input data -> a program can read, generate, analyse and transform other programs). This is known as a *program transformation* (`jaxprs` deals with this) including: \n",
    "> - JIT compilation\n",
    "> - Autodifferentiation\n",
    "> - Automatic parallelisation\n",
    "> - Automatic vectorisation\n",
    "\n",
    "Jax provides four main transforms (functions to functions) which can be composed *arbitrarily*:\n",
    "1. `grad()` for evaluating the gradient of a function, as well as `jacfwd()` and `jacrev()` and jvp/vjp. Forward/reverse, composed arbitrarily to any order\n",
    "2. `vmap()` for automatic vectorisation (*beyond simple vectorisation*, to arbitrary Python functions)\n",
    "3. `pmap()` for easy parallelisation (across cores/GPUs)\n",
    "4. `jit()` for compilation\n",
    "\n",
    "> JAX USP: High performance numerical computing library which combines:\n",
    "> - JIT XLA compilation\n",
    "> - *composable transformations* of Python+NumPy programs (/functions) (differentiate, vectorize, JIT to GPU/TPU, and more)\n",
    "\n",
    "Note deep learning is just a small subset of what JAX can do (see figure)!\n",
    "\n",
    "Behind the scenes of JAX: https://jax.readthedocs.io/en/latest/autodidax.html\n",
    "\n",
    "Compared to PyTorch:\n",
    "- Fundamentally JAX is a stack of interpreters, that go through and progressively re-write your program -- e.g. mapping over batch dimensions, take gradients etc. -- before offloading all the actual computation to XLA\n",
    "- In torch, the graph is built in the forward pass, whilst gradients are calculated in the backwards pass, for a certain point in the function. In JAX, a new *function* is created which directly computes the gradient of any input function\n",
    "- This appears more flexible and combined with JIT XLA e.g. allows more efficient computation of gradient-per-sample and Hessians and other more complex autodiff use cases\n",
    "- Both frameworks can differentiate through complex control flows\n",
    "\n",
    "## CPU / GPU support\n",
    "\n",
    "JAX appears to fully support GPUs when using the composable transforms above. \n",
    "\n",
    "JAX provides a near-identical numpy version, which works very easily on GPUs and TPUs. This alone can justify the use of JAX!\n",
    "\n",
    "JAX for TPU is absolutely seamless.\n",
    "\n",
    "JAX is not optimised for CPU computing (\"accelerator first\") - so numpy may be faster for some cases.\n",
    "\n",
    "## Development\n",
    "\n",
    "JAX is being actively and professionally developed, although still officially experimental. Hit the scene in 2018, used by many Google/DeepMind papers now. Not Windows compatible.\n",
    "\n",
    "\n",
    "## What's the catch?\n",
    "\n",
    "### Functional programming\n",
    "\n",
    "The catch of composible program transforms and JIT XLA is that this restricts JAX to work only for *functionally pure* programs: we must be able to write in terms of *pure functions* (and not objects or other more complex control flows). \n",
    "\n",
    "All the input data is passed through the function parameters, all the results are output through the function results. A pure function will always return the same result if invoked with the same inputs.\n",
    "\n",
    "Another way of saying this is that the function must have *referential transparency* - a pure function can be replaced with the result of its evaluation at any time, and the program cannot tell the difference. \n",
    "\n",
    "The function:\n",
    "- cannot have control flow statements that depend on values of variables\n",
    "- cannot access variables outside of its scope\n",
    "- cannot have an I/O stream (so no printing, or accessing the time)\n",
    "- cannot have a mutable function as argument\n",
    "\n",
    "Other limitations:\n",
    "- JAX *cannot modify arrays in-place*.\n",
    "- JAX requires *explicit RNG handling*.\n",
    "- errors are *not* raised for out-of-bounds indexing. (!) Think of this as undefined behaviour.\n",
    "- It is not recommended to use iterators in any JAX function you want to `jit`.\n",
    "\n",
    "\n",
    "Otherwise, there may be some !! untracked side effects !!\n",
    "\n",
    "> Make sure you are dilligent and understand functional programming / JAX pitfalls. \n",
    "\n",
    "Jax is lower-level than PyTorch.\n",
    "\n",
    "## SciML\n",
    "\n",
    "JAX is brilliant for large-scale, complex, hybrid modeling, and soley for hardware acceleration too!\n",
    "\n",
    "## Deep learning\n",
    "\n",
    "JAX is roughly equivalent to just the `torch` namespace; you need to choose from various external libraries for building neural networks (equivalent to the `torch.nn` namespace). Check out `Equinox` - simple/transparent/general/designed with DEs in mind/ flexible function parameterisation. `Flax` (Google Brain) and `Haiku` (DeepMind) are most popular. `Optax` is good for optimisers.\n",
    "\n",
    "JAX is excellent for non-standard modelling, and training on TPUs! For standard training, PyTorch is probably better for now.\n"
   ]
  },
  {
   "cell_type": "code",
   "execution_count": 1,
   "id": "299e45db",
   "metadata": {},
   "outputs": [],
   "source": [
    "import jax\n",
    "import jax.numpy as jnp\n",
    "from jax import lax\n",
    "from jax import grad, jit, vmap, pmap,  jacfwd, jacrev\n",
    "from jax import random\n",
    "from jax import device_put, make_jaxpr\n",
    "from jax import tree_util\n",
    "from jax.scipy.special import logsumexp\n",
    "from functools import partial\n",
    "import numpy as np\n",
    "import matplotlib.pyplot as plt"
   ]
  },
  {
   "cell_type": "markdown",
   "id": "038dfc8f",
   "metadata": {},
   "source": [
    "# Quickstart"
   ]
  },
  {
   "cell_type": "markdown",
   "id": "ecca87b8",
   "metadata": {},
   "source": [
    "## Simple arrays\n",
    "\n",
    "- JAX provides a NumPy-inspired interface `jax.numpy` for convenience.\n",
    "- Through duck-typing, JAX arrays can often be used as drop-in replacements of NumPy arrays.\n",
    "- Unlike NumPy arrays, JAX arrays are always immutable."
   ]
  },
  {
   "cell_type": "code",
   "execution_count": 2,
   "id": "e45889f8",
   "metadata": {},
   "outputs": [
    {
     "name": "stdout",
     "output_type": "stream",
     "text": [
      "[-0.3721109   0.26423115 -0.18252768 -0.7368197  -0.44030377 -0.1521442\n",
      " -0.67135346 -0.5908641   0.73168886  0.5673026 ] (10,) <class 'jaxlib.xla_extension.DeviceArray'>\n"
     ]
    }
   ],
   "source": [
    "# generate random data\n",
    "key = random.PRNGKey(0)\n",
    "x = random.normal(key, (10,))# JAX requires explicit RNG handling (see below)\n",
    "print(x, x.shape, type(x))"
   ]
  },
  {
   "cell_type": "code",
   "execution_count": 3,
   "id": "54ecd173",
   "metadata": {},
   "outputs": [
    {
     "data": {
      "text/plain": [
       "DeviceArray([[129.95944   ,   7.6958685 ,   8.772064  , ...,\n",
       "                6.3571653 ,   2.3293855 ,  -8.627743  ],\n",
       "             [  7.6958685 , 123.0987    ,   1.9893165 , ...,\n",
       "                0.45828867,  -9.394791  , -15.0048275 ],\n",
       "             [  8.772064  ,   1.9893165 ,  87.803734  , ...,\n",
       "              -21.56633   ,  16.132122  ,  -5.47758   ],\n",
       "             ...,\n",
       "             [  6.3571653 ,   0.45828724, -21.566336  , ...,\n",
       "              126.38751   ,  -2.683978  ,   2.3173656 ],\n",
       "             [  2.3293874 ,  -9.394792  ,  16.13212   , ...,\n",
       "               -2.683978  , 120.720474  ,   1.6255394 ],\n",
       "             [ -8.627744  , -15.004827  ,  -5.4775796 , ...,\n",
       "                2.3173656 ,   1.6255394 ,  87.94435   ]], dtype=float32)"
      ]
     },
     "execution_count": 3,
     "metadata": {},
     "output_type": "execute_result"
    }
   ],
   "source": [
    "# matrix multiply\n",
    "x = random.normal(key, (100, 120), dtype=jnp.float32)\n",
    "x@x.T"
   ]
  },
  {
   "cell_type": "markdown",
   "id": "55c0d667",
   "metadata": {},
   "source": [
    "The big difference is that JAX arrays are *immutable*!\n",
    "\n",
    "This is because allowing mutation of variables in-place makes program analysis and transformation difficult"
   ]
  },
  {
   "cell_type": "code",
   "execution_count": 4,
   "id": "8c5cc29a",
   "metadata": {},
   "outputs": [
    {
     "name": "stdout",
     "output_type": "stream",
     "text": [
      "'<class 'jaxlib.xla_extension.DeviceArray'>' object does not support item assignment. JAX arrays are immutable. Instead of ``x[idx] = y``, use ``x = x.at[idx].set(y)`` or another .at[] method: https://jax.readthedocs.io/en/latest/_autosummary/jax.numpy.ndarray.at.html\n"
     ]
    }
   ],
   "source": [
    "x = jnp.arange(10)\n",
    "try:\n",
    "    x[0] = 10\n",
    "except Exception as e:\n",
    "    print(e)"
   ]
  },
  {
   "cell_type": "markdown",
   "id": "27753b72",
   "metadata": {},
   "source": [
    "For updating individual elements, JAX provides an indexed update syntax that returns an updated out-of-place *copy*\n",
    "(a functional array update).\n",
    "\n",
    "However, inside jit-compiled code, if the input value `x` of `x.at[idx].set(y)` is not reused, the compiler will optimize the array update to occur in-place"
   ]
  },
  {
   "cell_type": "code",
   "execution_count": 5,
   "id": "7a504625",
   "metadata": {},
   "outputs": [
    {
     "name": "stdout",
     "output_type": "stream",
     "text": [
      "[10  1  2  3  4  5  6  7  8  9]\n",
      "[17  1  9  3 11  5 13  7 15  9]\n"
     ]
    }
   ],
   "source": [
    "x = x.at[0].set(10)\n",
    "print(x)\n",
    "x = x.at[::2].add(7)\n",
    "print(x)"
   ]
  },
  {
   "cell_type": "markdown",
   "id": "e13c12f1",
   "metadata": {},
   "source": []
  },
  {
   "cell_type": "markdown",
   "id": "ad2bcfe2",
   "metadata": {},
   "source": [
    "### Random numbers\n",
    "\n",
    "JAX implements an explicit PRNG where randomness is handled by *explicitly* passing and iterating a PRNG state.\n",
    "\n",
    "JAX uses a modern Threefry counter-based PRNG that’s *splittable*. That is, its design allows us to *fork* the PRNG state into new PRNGs for use with parallel stochastic generation.\n",
    "\n",
    "This gives much better control over PRNG for complex multi threaded/process/device programs.\n",
    "\n",
    "Note: JAX’s random functions produce pseudorandom numbers from the PRNG state, but *do not* change the state!\n",
    "\n",
    "Instead, we split the PRNG to get usable subkeys every time we need a new pseudorandom number:"
   ]
  },
  {
   "cell_type": "code",
   "execution_count": 6,
   "id": "7e50fdb8",
   "metadata": {},
   "outputs": [
    {
     "name": "stdout",
     "output_type": "stream",
     "text": [
      "[-0.20584226]\n",
      "[-0.20584226]\n",
      "[-1.2515389]\n",
      "[1.4544677]\n",
      "[-0.49327764]\n",
      "[-0.39947626]\n"
     ]
    }
   ],
   "source": [
    "key = random.PRNGKey(0)# key represents state and is passed as first argument\n",
    "print(random.normal(key, shape=(1,)))# does not change the state (!)\n",
    "print(random.normal(key, shape=(1,)))\n",
    "\n",
    "key, subkey = random.split(key)# propagates the key, and produces a subkey for use\n",
    "print(random.normal(subkey, shape=(1,)))\n",
    "\n",
    "key, *subkeys = random.split(key, 4)# generate multiple subkeys at once\n",
    "for subkey in subkeys:\n",
    "    print(random.normal(subkey, shape=(1,)))"
   ]
  },
  {
   "cell_type": "markdown",
   "id": "cc478580",
   "metadata": {},
   "source": [
    "### `jax.numpy` vs `jax.lax`\n",
    "\n",
    "- jax.numpy is a high-level wrapper that provides a familiar interface.\n",
    "- jax.lax is a lower-level API that is stricter and often more powerful.\n",
    "\n",
    "If you look at the source of `jax.numpy`, you’ll see that all the operations are eventually expressed in terms of functions defined in `jax.lax`.\n",
    "\n",
    "For example, while `jax.numpy` will implicitly promote arguments to allow operations between mixed data types, `jax.lax` will not.\n",
    "\n",
    "At their heart, all `jax.lax` operations are Python wrappers for operations in XLA.\n",
    "\n",
    "Every JAX operation is eventually expressed in terms of these fundamental XLA operations, which is what enables JIT compilation."
   ]
  },
  {
   "cell_type": "code",
   "execution_count": 7,
   "id": "7edd96f5",
   "metadata": {},
   "outputs": [
    {
     "data": {
      "text/plain": [
       "DeviceArray(2., dtype=float32)"
      ]
     },
     "execution_count": 7,
     "metadata": {},
     "output_type": "execute_result"
    }
   ],
   "source": [
    "lax.add(jnp.float32(1), 1.0)"
   ]
  },
  {
   "cell_type": "markdown",
   "id": "310d1e48",
   "metadata": {},
   "source": [
    "## Putting onto device\n",
    "\n",
    "In JAX, the computation follows data placement. JAX arrays have two placement properties: 1) the device where the data resides; and 2) whether it is committed to the device or not (the data is sometimes referred to as being sticky to the device).\n",
    "\n",
    "By default, JAX arrays are placed uncommitted on the default device (`jax.devices()[0]`), which is the first GPU or TPU by default. If no GPU or TPU is present, `jax.devices()[0]` is the CPU. The default device can temporarily overridden with the `jax.default_device()` context manager, or set for the whole process by setting the environment variable `JAX_PLATFORMS` or the `absl flag --jax_platforms` to `“cpu”`, `“gpu”`, or `“tpu”`\n",
    "\n",
    "Computations involving uncommitted data are performed on the default device and the results are uncommitted on the default device.\n",
    "\n",
    "Data can also be placed explicitly on a device using `jax.device_put()` with a device parameter, in which case the data becomes committed to the device.\n",
    "\n",
    "Computations involving some committed inputs will happen on the committed device and the result will be committed on the same device. Invoking an operation on arguments that are committed to more than one device will raise an error.\n",
    "\n",
    "`jax.device_put(jnp.zeros(...)`, `jax.devices()[1])` or similar will actually create the array of zeros on `jax.devices()[1]`, instead of creating the array on the default device then moving it. This is thanks to some laziness in array creation, which holds for all the constant creation operations (ones, full, eye, etc).\n",
    "\n",
    "Thus, JAX runs transparently on the GPU or TPU (falling back to CPU if you don’t have one). \n",
    "\n",
    "Use `device_put` to put *and keep* something on a device. It only copies values back to the CPU when they’re needed for printing, plotting, saving to disk, branching, etc.\n",
    "\n",
    "\n"
   ]
  },
  {
   "cell_type": "code",
   "execution_count": 8,
   "id": "19ddd22c",
   "metadata": {},
   "outputs": [
    {
     "name": "stdout",
     "output_type": "stream",
     "text": [
      "[CpuDevice(id=0)]\n"
     ]
    },
    {
     "data": {
      "text/plain": [
       "CpuDevice(id=0)"
      ]
     },
     "execution_count": 8,
     "metadata": {},
     "output_type": "execute_result"
    }
   ],
   "source": [
    "print(jax.devices())\n",
    "\n",
    "x = device_put(x)\n",
    "x.device()"
   ]
  },
  {
   "cell_type": "markdown",
   "id": "0ef7c684",
   "metadata": {},
   "source": [
    "## Asynchronous dispatch\n",
    "\n",
    "JAX uses asynchronous dispatch to hide Python overhead. When an operation such as `jnp.dot(x, x)` is executed, JAX does not wait for the operation to complete before returning control to the Python program.\n",
    "\n",
    "Only if we actually inspect the value of the array from the host, for example by printing it or by converting it into a plain old `numpy.ndarray` will JAX force the Python code to wait for the computation to complete.\n",
    "\n",
    "One can also call the `.block_until_ready()` method on a `DeviceArray` to wait for the computation to complete.\n",
    "\n",
    "Asynchronous dispatch is useful since it allows Python code to “run ahead” of an accelerator device, keeping Python code out of the critical path.\n"
   ]
  },
  {
   "cell_type": "code",
   "execution_count": 9,
   "id": "e0da8265",
   "metadata": {},
   "outputs": [
    {
     "data": {
      "text/plain": [
       "DeviceArray(1050, dtype=int32)"
      ]
     },
     "execution_count": 9,
     "metadata": {},
     "output_type": "execute_result"
    }
   ],
   "source": [
    "(x@x.T).block_until_ready()"
   ]
  },
  {
   "cell_type": "markdown",
   "id": "c55a86ff",
   "metadata": {},
   "source": [
    "## How JAX transforms work\n",
    "\n",
    "Conceptually, one can think of JAX transformations as first trace-specializing the Python function to be transformed into a small and well-behaved intermediate form that is then interpreted with transformation-specific interpretation rules. One of the reasons JAX can pack so much power into such a small software package is that it starts with a familiar and flexible programming interface (Python with NumPy) and it uses the actual Python interpreter to do most of the heavy lifting to distill the essence of the computation into a simple statically-typed expression language with limited higher-order features. That language is the `jaxpr` language.\n",
    "\n",
    "It is important to point out that not all JAX transformations literally materialize a `jaxpr` as described above; some, e.g., differentiation or batching, will apply transformations incrementally during tracing. \n",
    "\n",
    "\n",
    "In the previous section, we discussed that JAX allows us to transform Python functions. This is done by first converting the Python function into a simple intermediate language called jaxpr. The transformations then work on the `jaxpr` representation.\n",
    "\n",
    "We can show a representation of the `jaxpr` of a function by using `jax.make_jaxpr`:"
   ]
  },
  {
   "cell_type": "code",
   "execution_count": 10,
   "id": "cd4808b7",
   "metadata": {},
   "outputs": [
    {
     "name": "stdout",
     "output_type": "stream",
     "text": [
      "{ \u001b[34m\u001b[22m\u001b[1mlambda \u001b[39m\u001b[22m\u001b[22m; a\u001b[35m:f32[]\u001b[39m. \u001b[34m\u001b[22m\u001b[1mlet\n",
      "    \u001b[39m\u001b[22m\u001b[22mb\u001b[35m:f32[]\u001b[39m = log a\n",
      "    c\u001b[35m:f32[]\u001b[39m = log 2.0\n",
      "    d\u001b[35m:f32[]\u001b[39m = div b c\n",
      "  \u001b[34m\u001b[22m\u001b[1min \u001b[39m\u001b[22m\u001b[22m(d,) }\n"
     ]
    }
   ],
   "source": [
    "global_list = []\n",
    "\n",
    "def log2(x):\n",
    "    global_list.append(x)# jax functions shouldn't modify external variables - tracing does not record side effects!!\n",
    "    ln_x = jnp.log(x)\n",
    "    ln_2 = jnp.log(2.0)\n",
    "    return ln_x / ln_2\n",
    "\n",
    "print(jax.make_jaxpr(log2)(3.0))"
   ]
  },
  {
   "cell_type": "markdown",
   "id": "7d56aad4",
   "metadata": {},
   "source": [
    "Importantly, note how the jaxpr *does not capture the side-effect* of the function: there is nothing in it corresponding to global_list.append(x). This is a feature, not a bug: \n",
    "\n",
    "> JAX is designed to understand side-effect-free (a.k.a. functionally pure) code.\n",
    "\n",
    "> In order to use jaxpr and tracing, JAX code must be *functionally pure*.\n",
    "\n",
    "This means that functions must not have *side-effects*:\n",
    "\n",
    "A side-effect is any effect of a function that doesn’t appear in its output.\n",
    "\n",
    "Of course, impure functions can still be written and even run, but JAX gives no guarantees about their behaviour once converted to jaxpr. However, as a rule of thumb, you can expect (but shouldn’t rely on) the side-effects of a JAX-transformed function to run once (during the first call), and never again. This is because of the way that JAX generates jaxpr, using a process called ‘tracing’.\n",
    "\n",
    "Any such side-effects will only be executed once, when the python version of the function is run during compilation. These side-effects will not be executed by the compiled function on subsequent runs.\n",
    "\n",
    "When tracing, JAX wraps each argument by a tracer object. These tracers then record all JAX operations performed on them during the function call (which happens in regular Python). Then, JAX uses the tracer records to reconstruct the entire function. The output of that reconstruction is the jaxpr. Since the tracers do not record the Python side-effects, they do not appear in the jaxpr. However, the side-effects still happen during the trace itself.\n",
    "\n",
    "Note: the Python `print()` function is not pure: the text output is a side-effect of the function. Therefore, any `print()` calls will only happen during tracing, and will not appear in the jaxpr.\n",
    "\n",
    "Of course, it’s possible to mix side-effectful Python code and functionally pure JAX code, and we will touch on this more later. As you get more familiar with JAX, you will learn how and when this can work. As a rule of thumb, however, any functions intended to be transformed by JAX should avoid side-effects, and the JAX primitives themselves will try to help you do that.\n",
    "\n",
    "A key thing to understand is that jaxpr captures the function as executed on the parameters given to it. For example, if we have a conditional, jaxpr will only know about the branch we take:"
   ]
  },
  {
   "cell_type": "code",
   "execution_count": 11,
   "id": "ebeabb94",
   "metadata": {},
   "outputs": [
    {
     "name": "stdout",
     "output_type": "stream",
     "text": [
      "{ \u001b[34m\u001b[22m\u001b[1mlambda \u001b[39m\u001b[22m\u001b[22m; a\u001b[35m:i32[3]\u001b[39m. \u001b[34m\u001b[22m\u001b[1mlet\u001b[39m\u001b[22m\u001b[22m  \u001b[34m\u001b[22m\u001b[1min \u001b[39m\u001b[22m\u001b[22m(a,) }\n"
     ]
    }
   ],
   "source": [
    "def log2_if_rank_2(x):\n",
    "    if x.ndim == 2:\n",
    "        ln_x = jnp.log(x)\n",
    "        ln_2 = jnp.log(2.0)\n",
    "        return ln_x / ln_2\n",
    "    else:\n",
    "        return x\n",
    "\n",
    "print(jax.make_jaxpr(log2_if_rank_2)(jax.numpy.array([1, 2, 3])))"
   ]
  },
  {
   "cell_type": "code",
   "execution_count": 12,
   "id": "964ab43e",
   "metadata": {},
   "outputs": [
    {
     "name": "stdout",
     "output_type": "stream",
     "text": [
      "{ \u001b[34m\u001b[22m\u001b[1mlambda \u001b[39m\u001b[22m\u001b[22m; a\u001b[35m:i32[]\u001b[39m. \u001b[34m\u001b[22m\u001b[1mlet\u001b[39m\u001b[22m\u001b[22m b\u001b[35m:i32[]\u001b[39m = mul 2 a \u001b[34m\u001b[22m\u001b[1min \u001b[39m\u001b[22m\u001b[22m(b,) }\n",
      "3\n",
      "3\n",
      "3\n"
     ]
    }
   ],
   "source": [
    "w = 2\n",
    "\n",
    "def m(x):\n",
    "    return w*x# be very careful with referencing external variables\n",
    "jit_m = jit(m)\n",
    "\n",
    "print(jax.make_jaxpr(m)(1))\n",
    "\n",
    "for i in range(3):\n",
    "    w += 1\n",
    "    print(jit_m(1))"
   ]
  },
  {
   "cell_type": "markdown",
   "id": "50b98c61",
   "metadata": {},
   "source": [
    "## Using `jit()`\n",
    "\n",
    "By default, JAX executes operations to the GPU/CPU *one at a time*, in sequence. If we have a sequence of operations, we can use the `@jit` decorator to *compile and optimise multiple operations together* using XLA (kernel fusion).\n",
    "\n",
    "The fact that all JAX operations are expressed in terms of XLA allows JAX to use the XLA compiler to execute blocks of code very efficiently.\n",
    "\n",
    "This is super fast (at the cost of a slower first run)!!"
   ]
  },
  {
   "cell_type": "code",
   "execution_count": 13,
   "id": "cee1d6b4",
   "metadata": {},
   "outputs": [
    {
     "name": "stdout",
     "output_type": "stream",
     "text": [
      "<CompiledFunction of <function selu at 0x7f96e6c552d0>>\n",
      "46.7 µs ± 1.55 µs per loop (mean ± std. dev. of 7 runs, 10000 loops each)\n",
      "5.68 µs ± 73.3 ns per loop (mean ± std. dev. of 7 runs, 100000 loops each)\n",
      "2.46 ms ± 59.1 µs per loop (mean ± std. dev. of 7 runs, 100 loops each)\n",
      "532 µs ± 18.4 µs per loop (mean ± std. dev. of 7 runs, 1000 loops each)\n"
     ]
    }
   ],
   "source": [
    "def selu(x, alpha=1.67, lmbda=1.05):\n",
    "    return lmbda * jnp.where(x > 0, x, alpha * jnp.exp(x) - alpha)\n",
    "\n",
    "selu_jit = jit(selu)\n",
    "print(selu_jit)\n",
    "\n",
    "x = random.normal(key, (100,))\n",
    "\n",
    "%timeit selu(x).block_until_ready()\n",
    "\n",
    "# note that selu_jit is compiled the first time it is called, and cached thereafter\n",
    "%timeit selu_jit(x).block_until_ready()\n",
    "\n",
    "\n",
    "# even faster than numpy for this one! (fused kernels!)\n",
    "def fn(x):\n",
    "    return x + x*x + x*x*x\n",
    "\n",
    "jax_fn = jit(fn)\n",
    "\n",
    "x = np.random.randn(1000, 1000).astype(dtype='float32')\n",
    "%timeit fn(x)\n",
    "\n",
    "x = jnp.array(x)\n",
    "%timeit jax_fn(x).block_until_ready()"
   ]
  },
  {
   "cell_type": "markdown",
   "id": "bfc1d5a3",
   "metadata": {},
   "source": [
    "### How does JIT work?\n",
    "\n",
    "To get a view of your Python code that is valid for many different argument values, JAX *traces* it on abstract values that represent sets of possible inputs. There are multiple different levels of abstraction, and different transformations use different abstraction levels.\n",
    "\n",
    "By default, jit traces your code on the `ShapedArray` abstraction level, where each abstract value represents the set of all array values with a fixed shape and dtype.\n",
    "\n",
    "This recorded sequence of computations can then be efficiently applied within XLA to new inputs *with the same shape and dtype*, without having to re-trace the Python code.\n",
    "\n",
    "Note other abstraction levels can be used - see guide.\n",
    "\n",
    "There are also more advanced control flow primitives in jax you can use to help avoid re-compilation, like `lax.cond`, `lax.scan`, `lax.while_loop` and `lax.fori_loop` - see guide."
   ]
  },
  {
   "cell_type": "code",
   "execution_count": 14,
   "id": "5f9c7a73",
   "metadata": {},
   "outputs": [
    {
     "name": "stdout",
     "output_type": "stream",
     "text": [
      "Running f():\n",
      "  x = Traced<ShapedArray(float32[3,4])>with<DynamicJaxprTrace(level=0/1)>\n",
      "  y = Traced<ShapedArray(float32[4])>with<DynamicJaxprTrace(level=0/1)>\n",
      "  result = Traced<ShapedArray(float32[3])>with<DynamicJaxprTrace(level=0/1)>\n",
      "Running f():\n",
      "  x = Traced<ShapedArray(float32[5,6])>with<DynamicJaxprTrace(level=0/1)>\n",
      "  y = Traced<ShapedArray(float32[6])>with<DynamicJaxprTrace(level=0/1)>\n",
      "  result = Traced<ShapedArray(float32[5])>with<DynamicJaxprTrace(level=0/1)>\n",
      "{ \u001b[34m\u001b[22m\u001b[1mlambda \u001b[39m\u001b[22m\u001b[22m; a\u001b[35m:f32[3,4]\u001b[39m b\u001b[35m:f32[4]\u001b[39m. \u001b[34m\u001b[22m\u001b[1mlet\n",
      "    \u001b[39m\u001b[22m\u001b[22mc\u001b[35m:f32[3,4]\u001b[39m = add a 1.0\n",
      "    d\u001b[35m:f32[4]\u001b[39m = add b 1.0\n",
      "    e\u001b[35m:f32[3]\u001b[39m = dot_general[\n",
      "      dimension_numbers=(((1,), (0,)), ((), ()))\n",
      "      precision=None\n",
      "      preferred_element_type=None\n",
      "    ] c d\n",
      "  \u001b[34m\u001b[22m\u001b[1min \u001b[39m\u001b[22m\u001b[22m(e,) }\n",
      "{ \u001b[34m\u001b[22m\u001b[1mlambda \u001b[39m\u001b[22m\u001b[22m; a\u001b[35m:f32[3,4]\u001b[39m b\u001b[35m:f32[4]\u001b[39m. \u001b[34m\u001b[22m\u001b[1mlet\n",
      "    \u001b[39m\u001b[22m\u001b[22mc\u001b[35m:f32[3]\u001b[39m = xla_call[\n",
      "      call_jaxpr={ \u001b[34m\u001b[22m\u001b[1mlambda \u001b[39m\u001b[22m\u001b[22m; d\u001b[35m:f32[3,4]\u001b[39m e\u001b[35m:f32[4]\u001b[39m. \u001b[34m\u001b[22m\u001b[1mlet\n",
      "          \u001b[39m\u001b[22m\u001b[22mf\u001b[35m:f32[3,4]\u001b[39m = add d 1.0\n",
      "          g\u001b[35m:f32[4]\u001b[39m = add e 1.0\n",
      "          h\u001b[35m:f32[3]\u001b[39m = dot_general[\n",
      "            dimension_numbers=(((1,), (0,)), ((), ()))\n",
      "            precision=None\n",
      "            preferred_element_type=None\n",
      "          ] f g\n",
      "        \u001b[34m\u001b[22m\u001b[1min \u001b[39m\u001b[22m\u001b[22m(h,) }\n",
      "      name=f\n",
      "    ] a b\n",
      "  \u001b[34m\u001b[22m\u001b[1min \u001b[39m\u001b[22m\u001b[22m(c,) }\n"
     ]
    }
   ],
   "source": [
    "@jit\n",
    "def f(x, y):\n",
    "    print(\"Running f():\")\n",
    "    print(f\"  x = {x}\")\n",
    "    print(f\"  y = {y}\")\n",
    "    result = jnp.dot(x + 1, y + 1)\n",
    "    print(f\"  result = {result}\")\n",
    "    return result\n",
    "\n",
    "x = np.random.randn(3, 4)\n",
    "y = np.random.randn(4)\n",
    "f(x, y)\n",
    "\n",
    "# When we call the compiled function again on matching inputs, no re-compilation is  required \n",
    "# and nothing is printed because the result is computed in compiled XLA rather than in Python\n",
    "x2 = np.random.randn(3, 4)\n",
    "y2 = np.random.randn(4)\n",
    "f(x2, y2)\n",
    "\n",
    "# but if shapes (or types) change, we must re-compile\n",
    "x3 = np.random.randn(5, 6)\n",
    "y3 = np.random.randn(6)\n",
    "f(x3, y3)\n",
    "\n",
    "# but original compilation is still cached!!\n",
    "f(x, y)\n",
    "\n",
    "# The extracted sequence of operations is encoded in a JAX expression, or jaxpr for short. To view it:\n",
    "def f(x, y):\n",
    "    return jnp.dot(x + 1, y + 1)\n",
    "print(make_jaxpr(f)(x, y))\n",
    "print(make_jaxpr(jit(f))(x, y))"
   ]
  },
  {
   "cell_type": "markdown",
   "id": "14057b9a",
   "metadata": {},
   "source": [
    "### JIT limitations\n",
    "\n",
    "Importantly, JIT compiling imposes restrictions on JAX code.\n",
    "\n",
    "In particular (for `ShapedArray` abstraction), it requires *array shapes* to be *static & known* at compile time:"
   ]
  },
  {
   "cell_type": "code",
   "execution_count": 15,
   "id": "727e61da",
   "metadata": {},
   "outputs": [
    {
     "name": "stdout",
     "output_type": "stream",
     "text": [
      "Array boolean indices must be concrete; got ShapedArray(bool[10])\n",
      "\n",
      "See https://jax.readthedocs.io/en/latest/errors.html#jax.errors.NonConcreteBooleanIndexError\n"
     ]
    }
   ],
   "source": [
    "def get_negatives(x):\n",
    "    return x[x < 0]\n",
    "try:\n",
    "    jit(get_negatives)(jnp.arange(10))\n",
    "except Exception as e:\n",
    "    print(e)"
   ]
  },
  {
   "cell_type": "markdown",
   "id": "cac38c73",
   "metadata": {},
   "source": [
    "This crashes because the function generates an array whose shape is not known at compile time: the size of the output depends on the values of the input array, and so it is not compatible with JIT.\n",
    "\n",
    "Likewise, *control flow* statements in the function cannot depend on *traced values*, as JIT compilation is done without information on the content (values) of the array:"
   ]
  },
  {
   "cell_type": "code",
   "execution_count": 16,
   "id": "6aaed986",
   "metadata": {},
   "outputs": [
    {
     "name": "stdout",
     "output_type": "stream",
     "text": [
      "Abstract tracer value encountered where concrete value is expected: Traced<ShapedArray(bool[], weak_type=True)>with<DynamicJaxprTrace(level=0/1)>\n",
      "The problem arose with the `bool` function. \n",
      "The error occurred while tracing the function f at /var/folders/6p/mdzn2wk57nq35tz4bgfd63300000gp/T/ipykernel_67556/2320181375.py:1 for jit. This concrete value was not available in Python because it depends on the value of the argument 'x'.\n",
      "\n",
      "See https://jax.readthedocs.io/en/latest/errors.html#jax.errors.ConcretizationTypeError\n"
     ]
    }
   ],
   "source": [
    "def f(x):\n",
    "    if x > 0:\n",
    "        return x\n",
    "    else:\n",
    "        return 2 * x\n",
    "f_jit = jit(f)\n",
    "try:\n",
    "    f_jit(10)\n",
    "except Exception as e:\n",
    "    print(e)"
   ]
  },
  {
   "cell_type": "markdown",
   "id": "839e55cd",
   "metadata": {},
   "source": [
    "Finally, jitted functions must be *pure*. (see above!!)"
   ]
  },
  {
   "cell_type": "markdown",
   "id": "63d62fc8",
   "metadata": {},
   "source": [
    "### Static variables/ operations\n",
    "\n",
    "If there are variables that you would not like to be traced, they can be marked as static for the purposes of JIT compilation.\n",
    "\n",
    "Note that calling a JIT-compiled function with a different static argument results in re-compilation, so the function still works as expected:"
   ]
  },
  {
   "cell_type": "code",
   "execution_count": 17,
   "id": "da0d1ff9",
   "metadata": {},
   "outputs": [
    {
     "name": "stdout",
     "output_type": "stream",
     "text": [
      "compiling!\n",
      "-1\n",
      "compiling!\n",
      "1\n"
     ]
    }
   ],
   "source": [
    "@partial(jit, static_argnums=(1,))\n",
    "def f(x, neg):\n",
    "    print(\"compiling!\")\n",
    "    return -x if neg else x\n",
    "\n",
    "print(f(1, True))\n",
    "print(f(1, False))"
   ]
  },
  {
   "cell_type": "markdown",
   "id": "f3831904",
   "metadata": {},
   "source": [
    "Note `static_argnums` relies on the hash of the object to determine whether it has changed between calls.\n",
    "Lists and arrays aren't hashable (but tuples and ints are!)"
   ]
  },
  {
   "cell_type": "markdown",
   "id": "e43f6445",
   "metadata": {},
   "source": [
    "Operations can also be made static.\n",
    "\n",
    "A useful pattern is to use `numpy` for operations that you want to be static, and `jax.numpy` for operations that you want to be traced:"
   ]
  },
  {
   "cell_type": "code",
   "execution_count": 18,
   "id": "b98acaaf",
   "metadata": {},
   "outputs": [
    {
     "name": "stdout",
     "output_type": "stream",
     "text": [
      "Shapes must be 1D sequences of concrete values of integer type, got [Traced<ShapedArray(int32[])>with<DynamicJaxprTrace(level=0/1)>].\n",
      "If using `jit`, try using `static_argnums` or applying `jit` to smaller subfunctions.\n"
     ]
    },
    {
     "data": {
      "text/plain": [
       "DeviceArray([1., 1., 1., 1., 1., 1.], dtype=float32)"
      ]
     },
     "execution_count": 18,
     "metadata": {},
     "output_type": "execute_result"
    }
   ],
   "source": [
    "x = jnp.ones((2, 3))\n",
    "\n",
    "@jit\n",
    "def f(x):\n",
    "    return x.reshape(jnp.array(x.shape).prod())\n",
    "# although x is traced, x.shape is a static value. However, when we use jnp.array and jnp.prod,\n",
    "# it becomes a traced value, at which point it cannot be used in a function like reshape() that \n",
    "# requires a static input (remember: jit requires array shapes to be static and known)\n",
    "\n",
    "try:\n",
    "    f(x)\n",
    "except Exception as e:\n",
    "    print(e)\n",
    "\n",
    "@jit\n",
    "def f(x):\n",
    "    return x.reshape((np.prod(x.shape),))# use numpy instead to make sure a static value is passed\n",
    "f(x)"
   ]
  },
  {
   "cell_type": "markdown",
   "id": "f223a680",
   "metadata": {},
   "source": [
    "### When to use JIT?\n",
    "\n",
    "`jax.jit` introduces some overhead itself. Therefore, it usually only saves time if the compiled function is complex and you will run it numerous times. Fortunately, this is common in machine learning, where we tend to compile a large, complicated model, then run it for millions of iterations.\n",
    "\n",
    "Generally, you want to jit the largest possible chunk of your computation; ideally, the *entire update step*. This gives the compiler maximum freedom to optimise."
   ]
  },
  {
   "cell_type": "markdown",
   "id": "6c3c99e7",
   "metadata": {},
   "source": [
    "## Using `grad()`\n",
    "\n",
    "Taking derivatives is as easy as calling `grad()`. `grad()` and `jit()` compose and can be mixed arbitrarily.\n",
    "\n",
    "`grad()` works for scalar-valued function"
   ]
  },
  {
   "cell_type": "code",
   "execution_count": 19,
   "id": "8890288a",
   "metadata": {},
   "outputs": [
    {
     "name": "stdout",
     "output_type": "stream",
     "text": [
      "Help on function grad in module jax._src.api:\n",
      "\n",
      "grad(fun: 'Callable', argnums: 'Union[int, Sequence[int]]' = 0, has_aux: 'bool' = False, holomorphic: 'bool' = False, allow_int: 'bool' = False, reduce_axes: 'Sequence[AxisName]' = ()) -> 'Callable'\n",
      "    Creates a function that evaluates the gradient of ``fun``.\n",
      "    \n",
      "    Args:\n",
      "      fun: Function to be differentiated. Its arguments at positions specified by\n",
      "        ``argnums`` should be arrays, scalars, or standard Python containers.\n",
      "        Argument arrays in the positions specified by ``argnums`` must be of\n",
      "        inexact (i.e., floating-point or complex) type. It\n",
      "        should return a scalar (which includes arrays with shape ``()`` but not\n",
      "        arrays with shape ``(1,)`` etc.)\n",
      "      argnums: Optional, integer or sequence of integers. Specifies which\n",
      "        positional argument(s) to differentiate with respect to (default 0).\n",
      "      has_aux: Optional, bool. Indicates whether ``fun`` returns a pair where the\n",
      "        first element is considered the output of the mathematical function to be\n",
      "        differentiated and the second element is auxiliary data. Default False.\n",
      "      holomorphic: Optional, bool. Indicates whether ``fun`` is promised to be\n",
      "        holomorphic. If True, inputs and outputs must be complex. Default False.\n",
      "      allow_int: Optional, bool. Whether to allow differentiating with\n",
      "        respect to integer valued inputs. The gradient of an integer input will\n",
      "        have a trivial vector-space dtype (float0). Default False.\n",
      "      reduce_axes: Optional, tuple of axis names. If an axis is listed here, and\n",
      "        ``fun`` implicitly broadcasts a value over that axis, the backward pass\n",
      "        will perform a ``psum`` of the corresponding gradient. Otherwise, the\n",
      "        gradient will be per-example over named axes. For example, if ``'batch'``\n",
      "        is a named batch axis, ``grad(f, reduce_axes=('batch',))`` will create a\n",
      "        function that computes the total gradient while ``grad(f)`` will create\n",
      "        one that computes the per-example gradient.\n",
      "    \n",
      "    Returns:\n",
      "      A function with the same arguments as ``fun``, that evaluates the gradient\n",
      "      of ``fun``. If ``argnums`` is an integer then the gradient has the same\n",
      "      shape and type as the positional argument indicated by that integer. If\n",
      "      argnums is a tuple of integers, the gradient is a tuple of values with the\n",
      "      same shapes and types as the corresponding arguments. If ``has_aux`` is True\n",
      "      then a pair of (gradient, auxiliary_data) is returned.\n",
      "    \n",
      "    For example:\n",
      "    \n",
      "    >>> import jax\n",
      "    >>>\n",
      "    >>> grad_tanh = jax.grad(jax.numpy.tanh)\n",
      "    >>> print(grad_tanh(0.2))\n",
      "    0.961043\n",
      "\n"
     ]
    }
   ],
   "source": [
    "help(grad)"
   ]
  },
  {
   "cell_type": "code",
   "execution_count": 20,
   "id": "45a0b48c",
   "metadata": {},
   "outputs": [
    {
     "name": "stdout",
     "output_type": "stream",
     "text": [
      "<class 'function'> <class 'function'> <class 'function'>\n",
      "<function tanh at 0x7f96e86bc790> <function tanh at 0x7f96e86bca60> <function tanh at 0x7f96e86bcc10>\n"
     ]
    },
    {
     "data": {
      "image/png": "[encoded data removed]",
      "text/plain": [
       "<Figure size 500x300 with 1 Axes>"
      ]
     },
     "metadata": {},
     "output_type": "display_data"
    }
   ],
   "source": [
    "def tanh(x):\n",
    "    return (1.0 - jnp.exp(-x))  / (1.0 + jnp.exp(-x))\n",
    "\n",
    "# get derivative functions\n",
    "tanh_d = grad(tanh)# this is a *function* for dy/dx, given x as input\n",
    "tanh_dd = grad(tanh_d)# similarly this is a *function* for d2y/dx2, given x as input\n",
    "\n",
    "print(type(tanh), type(tanh_d), type(tanh_dd))\n",
    "print(tanh, tanh_d, tanh_dd)\n",
    "\n",
    "x = jnp.linspace(-5, 5, 50)\n",
    "y = vmap(tanh)(x)\n",
    "dy = vmap(tanh_d)(x)# vmap explained below (for element-wise differentiation)!\n",
    "ddy = vmap(tanh_dd)(x)\n",
    "\n",
    "plt.figure(figsize=(5,3))\n",
    "plt.plot(x, y)\n",
    "plt.plot(x, dy)\n",
    "plt.plot(x, ddy)\n",
    "plt.show()"
   ]
  },
  {
   "cell_type": "markdown",
   "id": "83541eca",
   "metadata": {},
   "source": [
    "### Advanced autodiff\n",
    "\n",
    "For more advanced autodiff, you can use `jax.vjp()` for reverse-mode vector-Jacobian products and `jax.jvp()` for forward-mode Jacobian-vector products. The two can be composed arbitrarily with one another, and with other JAX transformations. Here’s one way to compose them to make a function that efficiently computes full Hessian matrices:"
   ]
  },
  {
   "cell_type": "code",
   "execution_count": 21,
   "id": "72d9da38",
   "metadata": {},
   "outputs": [],
   "source": [
    "def hessian(fun):\n",
    "    return jit(jacfwd(jacrev(fun)))"
   ]
  },
  {
   "cell_type": "markdown",
   "id": "9084841c",
   "metadata": {},
   "source": [
    "## Using `vmap()`\n",
    "\n",
    "Stands for vectorising map. It has the familiar semantics of mapping a function along array axes, but instead of keeping the loop on the outside, it *pushes the loop down into a function’s primitive operations* for better performance. When composed with `jit()`, it can be just as fast as adding the batch dimensions by hand.\n",
    "\n",
    "It does this by tracing the function similarly to `jax.jit`, and automatically adding batch axes at the beginning of each input.\n",
    "\n",
    "If the batch dimension is not the first, you may use the `in_axes` and `out_axes` arguments to specify the location of the batch dimension in inputs and outputs. These may be an integer if the batch axis is the same for all inputs and outputs, or lists, otherwise.\n",
    "\n",
    "Note you can only `vmap` over array inputs! (and not functions etc)."
   ]
  },
  {
   "cell_type": "code",
   "execution_count": 22,
   "id": "44a5a74d",
   "metadata": {},
   "outputs": [
    {
     "name": "stdout",
     "output_type": "stream",
     "text": [
      "Naively batched\n",
      "21.4 µs ± 78.2 ns per loop (mean ± std. dev. of 7 runs, 10000 loops each)\n",
      "Manually batched\n",
      "16.1 µs ± 351 ns per loop (mean ± std. dev. of 7 runs, 100000 loops each)\n",
      "Auto-vectorized with vmap\n",
      "24.3 µs ± 725 ns per loop (mean ± std. dev. of 7 runs, 10000 loops each)\n"
     ]
    }
   ],
   "source": [
    "mat = random.normal(key, (150, 100))\n",
    "batched_x = random.normal(key, (10, 100))\n",
    "\n",
    "def apply_matrix(v):\n",
    "    return jnp.dot(mat, v)\n",
    "\n",
    "@jit\n",
    "def naively_batched_apply_matrix(v_batched):\n",
    "    return jnp.stack([apply_matrix(v) for v in v_batched])# naive for loop\n",
    "\n",
    "@jit\n",
    "def manually_batched_apply_matrix(v_batched):\n",
    "    return jnp.dot(v_batched, mat.T)# np just handles it as usual\n",
    "\n",
    "@jit\n",
    "def vmap_batched_apply_matrix(v_batched):\n",
    "    return vmap(apply_matrix)(v_batched)# vmap the function\n",
    "\n",
    "print('Naively batched')\n",
    "%timeit naively_batched_apply_matrix(batched_x).block_until_ready()# probably jit figures it out for easy case\n",
    "\n",
    "print('Manually batched')\n",
    "%timeit manually_batched_apply_matrix(batched_x).block_until_ready()\n",
    "\n",
    "print('Auto-vectorized with vmap')\n",
    "%timeit vmap_batched_apply_matrix(batched_x).block_until_ready()\n",
    "\n",
    "# Note, the same technique can be applied to more complicated functions!"
   ]
  },
  {
   "cell_type": "markdown",
   "id": "e654422e",
   "metadata": {},
   "source": [
    "### Pytrees\n",
    "\n",
    "Many JAX functions, like `jax.lax.scan()` and function transformations, like `vmap()`, can operate over *pytrees* of arrays, rather than single arrays. \n",
    "\n",
    "A *pytree* is any tree-like structure built out of container-like Python objects (lists, tuples, dicts), such as \n",
    "\n",
    "`[1, \"a\", object()]` or\n",
    "`[1, {\"k1\": 2, \"k2\": (3, 4)}, 5]`\n",
    "\n",
    "Such trees are useful for e.g. Model parameters and other training inputs.\n",
    "\n",
    "JAX has some utility functions in `jax.tree_utils` to help check these objects too.\n",
    "\n",
    "Perhaps the most commonly used pytree function `is jax.tree_map`:"
   ]
  },
  {
   "cell_type": "code",
   "execution_count": 23,
   "id": "25cf85e0",
   "metadata": {},
   "outputs": [
    {
     "data": {
      "text/plain": [
       "[[2, 4, 6], [2, 4], [2, 4, 6, 8]]"
      ]
     },
     "execution_count": 23,
     "metadata": {},
     "output_type": "execute_result"
    }
   ],
   "source": [
    "tree = [\n",
    "    [1, 2, 3],\n",
    "    [1, 2],\n",
    "    [1, 2, 3, 4]\n",
    "]\n",
    "\n",
    "jax.tree_map(lambda x: x*2, tree)\n",
    "# It works analogously to Python’s native map, but on entire pytrees"
   ]
  },
  {
   "cell_type": "markdown",
   "id": "fcc4b36d",
   "metadata": {},
   "source": [
    "or indeed, jax.tree_map can be used to update all parameters in SGD\n",
    "\n",
    "`return jax.tree_map(lambda p, g: p - LEARNING_RATE * g, params, grads)`"
   ]
  },
  {
   "cell_type": "code",
   "execution_count": 24,
   "id": "b3a88fac",
   "metadata": {},
   "outputs": [
    {
     "name": "stdout",
     "output_type": "stream",
     "text": [
      "[1, 2, 3, 1, 2, 1, 2, 3, 4]\n",
      "PyTreeDef([[*, *, *], [*, *], [*, *, *, *]])\n"
     ]
    }
   ],
   "source": [
    "print(tree_util.tree_leaves(tree))\n",
    "print(tree_util.tree_structure(tree))"
   ]
  },
  {
   "cell_type": "markdown",
   "id": "afcc24ec",
   "metadata": {},
   "source": [
    "You can also define your own pytree too"
   ]
  },
  {
   "cell_type": "markdown",
   "id": "58e15811",
   "metadata": {},
   "source": [
    "## Using `pmap()`\n",
    "\n",
    "Consider the example of vector-matrix multiplication. Let’s say we are performing this computation by sequentially computing the dot product of the vector with each row of the matrix. We would need to push these computations through our hardware one at a time.\n",
    "\n",
    "With JAX, we can easily distribute these computations across 4 TPUs by simply wrapping our operation in `pmap()`. This allows us to concurrently perform one dot product on each TPU, significantly increasing our computation speed (for large computations).\n",
    "\n",
    "The purpose of `pmap()` is to express single-program multiple-data (SPMD) programs. Applying `pmap()` to a function will compile the function with XLA (similarly to `jit()`), then execute it in parallel on XLA devices, such as multiple GPUs or multiple TPU cores. \n",
    "\n",
    "Semantically it is comparable to `vmap()` because both transformations map a function over array axes, but where vmap() vectorizes functions by pushing the mapped axis down into primitive operations, `pmap()` instead replicates the function and executes each replica on its own XLA device in parallel.\n",
    "\n",
    "The mapped axis size must be less than or equal to the number of local XLA devices available, as returned by `jax.local_device_count()` (unless devices is specified, see below). For nested `pmap()` calls, the product of the mapped axis sizes must be less than or equal to the number of XLA devices.\n",
    "\n",
    "> Note: `pmap()` compiles `fun`, so while it can be combined with jit(), it’s usually unnecessary."
   ]
  },
  {
   "cell_type": "code",
   "execution_count": 25,
   "id": "d0d9f930",
   "metadata": {},
   "outputs": [
    {
     "data": {
      "text/plain": [
       "[CpuDevice(id=0)]"
      ]
     },
     "execution_count": 25,
     "metadata": {},
     "output_type": "execute_result"
    }
   ],
   "source": [
    "jax.devices()"
   ]
  },
  {
   "cell_type": "code",
   "execution_count": 26,
   "id": "e6f03243",
   "metadata": {},
   "outputs": [
    {
     "data": {
      "text/plain": [
       "ShardedDeviceArray([0], dtype=int32)"
      ]
     },
     "execution_count": 26,
     "metadata": {},
     "output_type": "execute_result"
    }
   ],
   "source": [
    "def f(x):\n",
    "    y = x**2\n",
    "    return y\n",
    "\n",
    "pmap(f, in_axes=0)(jnp.arange(1))# need to parallelise across devices"
   ]
  },
  {
   "cell_type": "markdown",
   "id": "179e877c",
   "metadata": {},
   "source": [
    "Note that the parallelized convolve returns a ShardedDeviceArray. That is because the elements of this array are sharded across all of the devices used in the parallelism. If we were to run another parallel computation, the elements would stay on their respective devices, without incurring cross-device communication costs.\n",
    "\n",
    "Note, however, that unlike vmap, only the leading axis (0) is supported by pmap at the time of writing this guide."
   ]
  },
  {
   "cell_type": "markdown",
   "id": "219a70da",
   "metadata": {},
   "source": [
    "### Communication between devices\n",
    "\n",
    "However, sometimes we need to pass information between the devices. For example, perhaps we are interested in normalizing the output of each device so they sum to 1. For that, we can use special collective ops (such as the `jax.lax.p*` ops psum, pmean, pmax, …). In order to use the collective ops we must specify the name of the `pmap`-ed axis through `axis_name` argument, and then refer to it when calling the op. Here’s how to do that:"
   ]
  },
  {
   "cell_type": "code",
   "execution_count": 27,
   "id": "074d322e",
   "metadata": {},
   "outputs": [
    {
     "data": {
      "text/plain": [
       "ShardedDeviceArray([1.], dtype=float32)"
      ]
     },
     "execution_count": 27,
     "metadata": {},
     "output_type": "execute_result"
    }
   ],
   "source": [
    "def f(x):\n",
    "    y = x**2\n",
    "    return y/jax.lax.psum(y, axis_name=\"p\")\n",
    "\n",
    "pmap(f, in_axes=0, axis_name=\"p\")(jnp.arange(2,3))# need to parallelise across devices"
   ]
  },
  {
   "cell_type": "markdown",
   "id": "41912f32",
   "metadata": {},
   "source": [
    "The `axis_name` is just a string label that allows collective operations like `jax.lax.psum` to refer to the axis bound by `jax.pmap`. It can be named anything you want – in this case, `p`. This name is essentially invisible to anything but those functions, and those functions use it to know which axis to communicate across.\n",
    "\n",
    "`jax.vmap` also supports axis_name, which allows `jax.lax.p*` operations to be used in the vectorisation context in the same way they would be used in a `jax.pmap`.\n",
    "\n",
    "Check out here an example for parallel regression: https://jax.readthedocs.io/en/latest/jax-101/06-parallelism.html#example"
   ]
  },
  {
   "cell_type": "markdown",
   "id": "324a2de8",
   "metadata": {},
   "source": [
    "## Simple training loop"
   ]
  },
  {
   "cell_type": "code",
   "execution_count": 28,
   "id": "bc15cffc",
   "metadata": {},
   "outputs": [
    {
     "data": {
      "image/png": "[encoded data removed]",
      "text/plain": [
       "<Figure size 500x300 with 1 Axes>"
      ]
     },
     "metadata": {},
     "output_type": "display_data"
    }
   ],
   "source": [
    "xs = np.random.normal(size=(100,))\n",
    "noise = np.random.normal(scale=0.1, size=(100,))\n",
    "ys = 3 * xs - 1 + noise\n",
    "\n",
    "def model(theta, x):\n",
    "    w, b = theta\n",
    "    return w * x + b\n",
    "\n",
    "def loss_fn(theta, x, y):\n",
    "    prediction = model(theta, x)\n",
    "    return jnp.mean((prediction-y)**2)\n",
    "\n",
    "@jit# jit is WAY faster\n",
    "def update(theta, x, y, lr=0.1):\n",
    "    return theta - lr * grad(loss_fn, argnums=0)(theta, x, y)\n",
    "\n",
    "theta = jnp.array([1., 1.])\n",
    "\n",
    "for _ in range(10000):\n",
    "    theta = update(theta, xs, ys)\n",
    "\n",
    "plt.figure(figsize=(5,3))\n",
    "plt.scatter(xs, ys)\n",
    "plt.plot(xs, model(theta, xs), color=\"tab:green\")\n",
    "plt.show()"
   ]
  },
  {
   "cell_type": "markdown",
   "id": "f4dad0f7",
   "metadata": {},
   "source": [
    "## Simple NN\n",
    "\n",
    "Notes:\n",
    "- We define forward model for a single image example, and use JAX’s `vmap` function to automatically handle mini-batches, with no performance penalty.\n",
    "- We use the whole of the JAX API: `grad` for derivatives, `jit` for speedups, `vmap` for auto-vectorization, `jnp` to specify all of our computation, data loaders from PyTorch, and run on the GPU."
   ]
  },
  {
   "cell_type": "code",
   "execution_count": 29,
   "id": "6abcb9bc",
   "metadata": {},
   "outputs": [],
   "source": [
    "def random_layer_params(m, n, key, scale=1e-2):\n",
    "    w_key, b_key = random.split(key)\n",
    "    return scale * random.normal(w_key, (n, m)), scale * random.normal(b_key, (n,))\n",
    "\n",
    "def init_network_params(sizes, key):\n",
    "    keys = random.split(key, len(sizes))\n",
    "    return [random_layer_params(m, n, k) for m, n, k in zip(sizes[:-1], sizes[1:], keys)]\n",
    "\n",
    "def relu(x):\n",
    "    return jnp.maximum(0, x)\n",
    "\n",
    "def predict(params, image):\n",
    "    # PER EXAMPLE predictions\n",
    "    activations = image\n",
    "    for w, b in params[:-1]:\n",
    "        outputs = jnp.dot(w, activations) + b\n",
    "        activations = relu(outputs)\n",
    "    final_w, final_b = params[-1]\n",
    "    logits = jnp.dot(final_w, activations) + final_b\n",
    "    return logits - logsumexp(logits)\n",
    "\n",
    "batched_predict = vmap(predict, in_axes=(None, 0))\n",
    "\n",
    "def loss(params, images, targets):\n",
    "    preds = batched_predict(params, images)\n",
    "    return -jnp.mean(preds * targets)\n",
    "\n",
    "@jit# just jit the whole thing!\n",
    "def update(params, x, y):\n",
    "    grads = grad(loss)(params, x, y)\n",
    "    return [(w - step_size * dw, b - step_size * db) for (w, b), (dw, db) in zip(params, grads)]\n",
    "\n",
    "#for epoch in range(num_epochs):\n",
    "#    for x, y in dataloader:\n",
    "#    params = update(params, x, y)\n",
    "\n",
    "\n",
    "layer_sizes = [784, 512, 512, 10]\n",
    "step_size = 0.01\n",
    "num_epochs = 8\n",
    "batch_size = 128\n",
    "n_targets = 10\n",
    "params = init_network_params(layer_sizes, random.PRNGKey(0))"
   ]
  }
 ],
 "metadata": {
  "kernelspec": {
   "display_name": "Python 3 (ipykernel)",
   "language": "python",
   "name": "python3"
  },
  "language_info": {
   "codemirror_mode": {
    "name": "ipython",
    "version": 3
   },
   "file_extension": ".py",
   "mimetype": "text/x-python",
   "name": "python",
   "nbconvert_exporter": "python",
   "pygments_lexer": "ipython3",
   "version": "3.10.8"
  }
 },
 "nbformat": 4,
 "nbformat_minor": 5
}
